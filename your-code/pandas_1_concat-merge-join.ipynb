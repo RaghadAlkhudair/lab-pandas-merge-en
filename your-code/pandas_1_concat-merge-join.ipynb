{
 "cells": [
  {
   "cell_type": "code",
   "execution_count": 2,
   "metadata": {},
   "outputs": [],
   "source": [
    "import pandas as pd\n",
    "from IPython.display import display_html "
   ]
  },
  {
   "cell_type": "markdown",
   "metadata": {},
   "source": [
    "# Introduction\n",
    "\n",
    "In this lab we want you to learn and investigate some concepts in the context of Pandas: **concatenating**, **joining**, and **merging**. We want to review these concepts because it will make the subsequent work in transforming the datasets a lot more efficient."
   ]
  },
  {
   "cell_type": "markdown",
   "metadata": {},
   "source": [
    "# Concatenating, Joining, & Merging Tutorial\n",
    "\n",
    "\n",
    "## Concatenating\n",
    "\n",
    "Concatenating two dataframes combines two dataframes so that we append the rows of one dataframe at the end of the other. Our column names have to be identical for this function to work properly.\n",
    "\n",
    "Below is an example of the `concat()` function in pandas"
   ]
  },
  {
   "cell_type": "markdown",
   "metadata": {},
   "source": [
    "https://pandas.pydata.org/docs/reference/api/pandas.concat.html"
   ]
  },
  {
   "cell_type": "code",
   "execution_count": 4,
   "metadata": {
    "scrolled": true
   },
   "outputs": [],
   "source": [
    "df1 = pd.DataFrame({'A': ['a'+str(x) for x in range(3)],\n",
    "                    'B': ['b'+str(x) for x in range(3)],\n",
    "                    'C': ['c'+str(x) for x in range(3)]},\n",
    "                     index=[0, 1, 2])\n",
    "\n",
    "df2 = pd.DataFrame({'A': ['a'+str(x) for x in range(3, 6)],\n",
    "                    'B': ['b'+str(x) for x in range(3, 6)],\n",
    "                    'C': ['c'+str(x) for x in range(3, 6)]},\n",
    "                     index=[3, 4, 5]) \n",
    "\n",
    "df3 = pd.DataFrame({'D': ['d'+str(x) for x in range(3)],\n",
    "                    'E': ['e'+str(x) for x in range(3)],\n",
    "                    'F': ['f'+str(x) for x in range(3)]},\n",
    "                     index=[0, 1, 2]) \n",
    "\n",
    "df4 = pd.DataFrame({'D': ['d'+str(x) for x in range(3, 6)],\n",
    "                    'E': ['e'+str(x) for x in range(3, 6)],\n",
    "                    'F': ['f'+str(x) for x in range(3, 6)]},\n",
    "                     index=[3, 4, 5]) \n",
    "\n",
    "# print(df1, '\\n---\\n', df2, '\\n---\\n', df3, '\\n---\\n',df4)"
   ]
  },
  {
   "cell_type": "markdown",
   "metadata": {},
   "source": [
    "Let's try concatenating `df1` and `df2`, as well as `df3` and `df4`. "
   ]
  },
  {
   "cell_type": "code",
   "execution_count": 11,
   "metadata": {},
   "outputs": [
    {
     "data": {
      "text/html": [
       "<style type=\"text/css\">\n",
       "</style>\n",
       "<table id=\"T_1dc29\" style='display:inline'>\n",
       "  <caption>table one</caption>\n",
       "  <thead>\n",
       "    <tr>\n",
       "      <th class=\"blank level0\" >&nbsp;</th>\n",
       "      <th id=\"T_1dc29_level0_col0\" class=\"col_heading level0 col0\" >A</th>\n",
       "      <th id=\"T_1dc29_level0_col1\" class=\"col_heading level0 col1\" >B</th>\n",
       "      <th id=\"T_1dc29_level0_col2\" class=\"col_heading level0 col2\" >C</th>\n",
       "    </tr>\n",
       "  </thead>\n",
       "  <tbody>\n",
       "    <tr>\n",
       "      <th id=\"T_1dc29_level0_row0\" class=\"row_heading level0 row0\" >0</th>\n",
       "      <td id=\"T_1dc29_row0_col0\" class=\"data row0 col0\" >a0</td>\n",
       "      <td id=\"T_1dc29_row0_col1\" class=\"data row0 col1\" >b0</td>\n",
       "      <td id=\"T_1dc29_row0_col2\" class=\"data row0 col2\" >c0</td>\n",
       "    </tr>\n",
       "    <tr>\n",
       "      <th id=\"T_1dc29_level0_row1\" class=\"row_heading level0 row1\" >1</th>\n",
       "      <td id=\"T_1dc29_row1_col0\" class=\"data row1 col0\" >a1</td>\n",
       "      <td id=\"T_1dc29_row1_col1\" class=\"data row1 col1\" >b1</td>\n",
       "      <td id=\"T_1dc29_row1_col2\" class=\"data row1 col2\" >c1</td>\n",
       "    </tr>\n",
       "    <tr>\n",
       "      <th id=\"T_1dc29_level0_row2\" class=\"row_heading level0 row2\" >2</th>\n",
       "      <td id=\"T_1dc29_row2_col0\" class=\"data row2 col0\" >a2</td>\n",
       "      <td id=\"T_1dc29_row2_col1\" class=\"data row2 col1\" >b2</td>\n",
       "      <td id=\"T_1dc29_row2_col2\" class=\"data row2 col2\" >c2</td>\n",
       "    </tr>\n",
       "  </tbody>\n",
       "</table>\n",
       " <style type=\"text/css\">\n",
       "</style>\n",
       "<table id=\"T_d4543\" style='display:inline'>\n",
       "  <caption>table two</caption>\n",
       "  <thead>\n",
       "    <tr>\n",
       "      <th class=\"blank level0\" >&nbsp;</th>\n",
       "      <th id=\"T_d4543_level0_col0\" class=\"col_heading level0 col0\" >A</th>\n",
       "      <th id=\"T_d4543_level0_col1\" class=\"col_heading level0 col1\" >B</th>\n",
       "      <th id=\"T_d4543_level0_col2\" class=\"col_heading level0 col2\" >C</th>\n",
       "    </tr>\n",
       "  </thead>\n",
       "  <tbody>\n",
       "    <tr>\n",
       "      <th id=\"T_d4543_level0_row0\" class=\"row_heading level0 row0\" >3</th>\n",
       "      <td id=\"T_d4543_row0_col0\" class=\"data row0 col0\" >a3</td>\n",
       "      <td id=\"T_d4543_row0_col1\" class=\"data row0 col1\" >b3</td>\n",
       "      <td id=\"T_d4543_row0_col2\" class=\"data row0 col2\" >c3</td>\n",
       "    </tr>\n",
       "    <tr>\n",
       "      <th id=\"T_d4543_level0_row1\" class=\"row_heading level0 row1\" >4</th>\n",
       "      <td id=\"T_d4543_row1_col0\" class=\"data row1 col0\" >a4</td>\n",
       "      <td id=\"T_d4543_row1_col1\" class=\"data row1 col1\" >b4</td>\n",
       "      <td id=\"T_d4543_row1_col2\" class=\"data row1 col2\" >c4</td>\n",
       "    </tr>\n",
       "    <tr>\n",
       "      <th id=\"T_d4543_level0_row2\" class=\"row_heading level0 row2\" >5</th>\n",
       "      <td id=\"T_d4543_row2_col0\" class=\"data row2 col0\" >a5</td>\n",
       "      <td id=\"T_d4543_row2_col1\" class=\"data row2 col1\" >b5</td>\n",
       "      <td id=\"T_d4543_row2_col2\" class=\"data row2 col2\" >c5</td>\n",
       "    </tr>\n",
       "  </tbody>\n",
       "</table>\n"
      ]
     },
     "metadata": {},
     "output_type": "display_data"
    },
    {
     "data": {
      "text/html": [
       "<style type=\"text/css\">\n",
       "</style>\n",
       "<table id=\"T_7487a\" style='display:inline'>\n",
       "  <caption>table three</caption>\n",
       "  <thead>\n",
       "    <tr>\n",
       "      <th class=\"blank level0\" >&nbsp;</th>\n",
       "      <th id=\"T_7487a_level0_col0\" class=\"col_heading level0 col0\" >D</th>\n",
       "      <th id=\"T_7487a_level0_col1\" class=\"col_heading level0 col1\" >E</th>\n",
       "      <th id=\"T_7487a_level0_col2\" class=\"col_heading level0 col2\" >F</th>\n",
       "    </tr>\n",
       "  </thead>\n",
       "  <tbody>\n",
       "    <tr>\n",
       "      <th id=\"T_7487a_level0_row0\" class=\"row_heading level0 row0\" >0</th>\n",
       "      <td id=\"T_7487a_row0_col0\" class=\"data row0 col0\" >d0</td>\n",
       "      <td id=\"T_7487a_row0_col1\" class=\"data row0 col1\" >e0</td>\n",
       "      <td id=\"T_7487a_row0_col2\" class=\"data row0 col2\" >f0</td>\n",
       "    </tr>\n",
       "    <tr>\n",
       "      <th id=\"T_7487a_level0_row1\" class=\"row_heading level0 row1\" >1</th>\n",
       "      <td id=\"T_7487a_row1_col0\" class=\"data row1 col0\" >d1</td>\n",
       "      <td id=\"T_7487a_row1_col1\" class=\"data row1 col1\" >e1</td>\n",
       "      <td id=\"T_7487a_row1_col2\" class=\"data row1 col2\" >f1</td>\n",
       "    </tr>\n",
       "    <tr>\n",
       "      <th id=\"T_7487a_level0_row2\" class=\"row_heading level0 row2\" >2</th>\n",
       "      <td id=\"T_7487a_row2_col0\" class=\"data row2 col0\" >d2</td>\n",
       "      <td id=\"T_7487a_row2_col1\" class=\"data row2 col1\" >e2</td>\n",
       "      <td id=\"T_7487a_row2_col2\" class=\"data row2 col2\" >f2</td>\n",
       "    </tr>\n",
       "  </tbody>\n",
       "</table>\n",
       " <style type=\"text/css\">\n",
       "</style>\n",
       "<table id=\"T_969fc\" style='display:inline'>\n",
       "  <caption>table four</caption>\n",
       "  <thead>\n",
       "    <tr>\n",
       "      <th class=\"blank level0\" >&nbsp;</th>\n",
       "      <th id=\"T_969fc_level0_col0\" class=\"col_heading level0 col0\" >D</th>\n",
       "      <th id=\"T_969fc_level0_col1\" class=\"col_heading level0 col1\" >E</th>\n",
       "      <th id=\"T_969fc_level0_col2\" class=\"col_heading level0 col2\" >F</th>\n",
       "    </tr>\n",
       "  </thead>\n",
       "  <tbody>\n",
       "    <tr>\n",
       "      <th id=\"T_969fc_level0_row0\" class=\"row_heading level0 row0\" >3</th>\n",
       "      <td id=\"T_969fc_row0_col0\" class=\"data row0 col0\" >d3</td>\n",
       "      <td id=\"T_969fc_row0_col1\" class=\"data row0 col1\" >e3</td>\n",
       "      <td id=\"T_969fc_row0_col2\" class=\"data row0 col2\" >f3</td>\n",
       "    </tr>\n",
       "    <tr>\n",
       "      <th id=\"T_969fc_level0_row1\" class=\"row_heading level0 row1\" >4</th>\n",
       "      <td id=\"T_969fc_row1_col0\" class=\"data row1 col0\" >d4</td>\n",
       "      <td id=\"T_969fc_row1_col1\" class=\"data row1 col1\" >e4</td>\n",
       "      <td id=\"T_969fc_row1_col2\" class=\"data row1 col2\" >f4</td>\n",
       "    </tr>\n",
       "    <tr>\n",
       "      <th id=\"T_969fc_level0_row2\" class=\"row_heading level0 row2\" >5</th>\n",
       "      <td id=\"T_969fc_row2_col0\" class=\"data row2 col0\" >d5</td>\n",
       "      <td id=\"T_969fc_row2_col1\" class=\"data row2 col1\" >e5</td>\n",
       "      <td id=\"T_969fc_row2_col2\" class=\"data row2 col2\" >f5</td>\n",
       "    </tr>\n",
       "  </tbody>\n",
       "</table>\n"
      ]
     },
     "metadata": {},
     "output_type": "display_data"
    }
   ],
   "source": [
    "df1_styler = df1.style.set_table_attributes(\"style='display:inline'\").set_caption('table one')\n",
    "df2_styler = df2.style.set_table_attributes(\"style='display:inline'\").set_caption('table two')\n",
    "display_html(df1_styler._repr_html_() + \" \" + df2_styler._repr_html_(), raw=True)\n",
    "\n",
    "df3_styler = df3.style.set_table_attributes(\"style='display:inline'\").set_caption('table three')\n",
    "df4_styler = df4.style.set_table_attributes(\"style='display:inline'\").set_caption('table four')\n",
    "display_html(df3_styler._repr_html_() + \" \" + df4_styler._repr_html_(), raw=True)"
   ]
  },
  {
   "cell_type": "markdown",
   "metadata": {},
   "source": [
    "From the output above, you see the second dataframe is appended at the bottom of the first dataframe.\n",
    "\n",
    "Now let's try concatenating `df1`, `df2`, `df3`, and `df4` all together.\n",
    "\n",
    "Note that the `sort=False` param is supplied to silence a warning message on a future Pandas change. It does not make any difference on the output."
   ]
  },
  {
   "cell_type": "code",
   "execution_count": 36,
   "metadata": {},
   "outputs": [
    {
     "name": "stdout",
     "output_type": "stream",
     "text": [
      "     A    B    C    D    E    F\n",
      "0   a0   b0   c0  NaN  NaN  NaN\n",
      "1   a1   b1   c1  NaN  NaN  NaN\n",
      "2   a2   b2   c2  NaN  NaN  NaN\n",
      "3   a3   b3   c3  NaN  NaN  NaN\n",
      "4   a4   b4   c4  NaN  NaN  NaN\n",
      "5   a5   b5   c5  NaN  NaN  NaN\n",
      "0  NaN  NaN  NaN   d0   e0   f0\n",
      "1  NaN  NaN  NaN   d1   e1   f1\n",
      "2  NaN  NaN  NaN   d2   e2   f2\n",
      "3  NaN  NaN  NaN   d3   e3   f3\n",
      "4  NaN  NaN  NaN   d4   e4   f4\n",
      "5  NaN  NaN  NaN   d5   e5   f5\n"
     ]
    }
   ],
   "source": [
    "table=pd.concat([df1, df2 , df3, df4],sort=False )\n",
    "print(table)\n"
   ]
  },
  {
   "cell_type": "markdown",
   "metadata": {},
   "source": [
    "What do we find?\n",
    "\n",
    "* Pandas' `concat` method respects indexes of all axes. \n",
    "    * Because `df3` and `df4` have different column indexes than `df1` and `df2`, `concat` put them into different columns. \n",
    "    * `df3` and `df4` also retain their original row indexes of 0-5 instead of continuing from the last index of `df2`. \n",
    "* `concat` creates `NaN` at places where values are missing.\n",
    "\n",
    "Try also supplying `ignore_index=True` to `concat`. How is the output different?"
   ]
  },
  {
   "cell_type": "code",
   "execution_count": 48,
   "metadata": {},
   "outputs": [
    {
     "name": "stdout",
     "output_type": "stream",
     "text": [
      "      A    B    C    D    E    F\n",
      "0    a0   b0   c0  NaN  NaN  NaN\n",
      "1    a1   b1   c1  NaN  NaN  NaN\n",
      "2    a2   b2   c2  NaN  NaN  NaN\n",
      "3    a3   b3   c3  NaN  NaN  NaN\n",
      "4    a4   b4   c4  NaN  NaN  NaN\n",
      "5    a5   b5   c5  NaN  NaN  NaN\n",
      "6   NaN  NaN  NaN   d0   e0   f0\n",
      "7   NaN  NaN  NaN   d1   e1   f1\n",
      "8   NaN  NaN  NaN   d2   e2   f2\n",
      "9   NaN  NaN  NaN   d3   e3   f3\n",
      "10  NaN  NaN  NaN   d4   e4   f4\n",
      "11  NaN  NaN  NaN   d5   e5   f5\n"
     ]
    }
   ],
   "source": [
    "table=pd.concat([df1, df2 , df3, df4],ignore_index=True)\n",
    "print(table)"
   ]
  },
  {
   "cell_type": "markdown",
   "metadata": {},
   "source": [
    "## Merging and Joining\n",
    "\n",
    "Pandas has two functions for joining datasets: `merge()` and `join()`. They perform the same task but have different options and syntax. \n",
    "\n",
    "Below is an example of `merge` and `join`.     \n",
    "HINT (uses the column that repeats in both dataframes )"
   ]
  },
  {
   "cell_type": "markdown",
   "metadata": {},
   "source": [
    "https://pandas.pydata.org/docs/reference/api/pandas.DataFrame.merge.html"
   ]
  },
  {
   "cell_type": "code",
   "execution_count": 49,
   "metadata": {},
   "outputs": [],
   "source": [
    "left = pd.DataFrame({'idx': ['i'+str(x) for x in range(3)],\n",
    "                     'A': ['a'+str(x) for x in range(3)],\n",
    "                     'B': ['b'+str(x) for x in range(3)]})\n",
    "\n",
    "\n",
    "right = pd.DataFrame({'idx': ['i'+str(x) for x in range(1,4)],\n",
    "                     'C': ['c'+str(x) for x in range(1,4)],\n",
    "                     'D': ['d'+str(x) for x in range(1,4)]})"
   ]
  },
  {
   "cell_type": "code",
   "execution_count": 50,
   "metadata": {},
   "outputs": [
    {
     "data": {
      "text/html": [
       "<div>\n",
       "<style scoped>\n",
       "    .dataframe tbody tr th:only-of-type {\n",
       "        vertical-align: middle;\n",
       "    }\n",
       "\n",
       "    .dataframe tbody tr th {\n",
       "        vertical-align: top;\n",
       "    }\n",
       "\n",
       "    .dataframe thead th {\n",
       "        text-align: right;\n",
       "    }\n",
       "</style>\n",
       "<table border=\"1\" class=\"dataframe\">\n",
       "  <thead>\n",
       "    <tr style=\"text-align: right;\">\n",
       "      <th></th>\n",
       "      <th>idx</th>\n",
       "      <th>A</th>\n",
       "      <th>B</th>\n",
       "    </tr>\n",
       "  </thead>\n",
       "  <tbody>\n",
       "    <tr>\n",
       "      <th>0</th>\n",
       "      <td>i0</td>\n",
       "      <td>a0</td>\n",
       "      <td>b0</td>\n",
       "    </tr>\n",
       "    <tr>\n",
       "      <th>1</th>\n",
       "      <td>i1</td>\n",
       "      <td>a1</td>\n",
       "      <td>b1</td>\n",
       "    </tr>\n",
       "    <tr>\n",
       "      <th>2</th>\n",
       "      <td>i2</td>\n",
       "      <td>a2</td>\n",
       "      <td>b2</td>\n",
       "    </tr>\n",
       "  </tbody>\n",
       "</table>\n",
       "</div>"
      ],
      "text/plain": [
       "  idx   A   B\n",
       "0  i0  a0  b0\n",
       "1  i1  a1  b1\n",
       "2  i2  a2  b2"
      ]
     },
     "execution_count": 50,
     "metadata": {},
     "output_type": "execute_result"
    }
   ],
   "source": [
    "left"
   ]
  },
  {
   "cell_type": "code",
   "execution_count": 51,
   "metadata": {},
   "outputs": [
    {
     "data": {
      "text/html": [
       "<div>\n",
       "<style scoped>\n",
       "    .dataframe tbody tr th:only-of-type {\n",
       "        vertical-align: middle;\n",
       "    }\n",
       "\n",
       "    .dataframe tbody tr th {\n",
       "        vertical-align: top;\n",
       "    }\n",
       "\n",
       "    .dataframe thead th {\n",
       "        text-align: right;\n",
       "    }\n",
       "</style>\n",
       "<table border=\"1\" class=\"dataframe\">\n",
       "  <thead>\n",
       "    <tr style=\"text-align: right;\">\n",
       "      <th></th>\n",
       "      <th>idx</th>\n",
       "      <th>C</th>\n",
       "      <th>D</th>\n",
       "    </tr>\n",
       "  </thead>\n",
       "  <tbody>\n",
       "    <tr>\n",
       "      <th>0</th>\n",
       "      <td>i1</td>\n",
       "      <td>c1</td>\n",
       "      <td>d1</td>\n",
       "    </tr>\n",
       "    <tr>\n",
       "      <th>1</th>\n",
       "      <td>i2</td>\n",
       "      <td>c2</td>\n",
       "      <td>d2</td>\n",
       "    </tr>\n",
       "    <tr>\n",
       "      <th>2</th>\n",
       "      <td>i3</td>\n",
       "      <td>c3</td>\n",
       "      <td>d3</td>\n",
       "    </tr>\n",
       "  </tbody>\n",
       "</table>\n",
       "</div>"
      ],
      "text/plain": [
       "  idx   C   D\n",
       "0  i1  c1  d1\n",
       "1  i2  c2  d2\n",
       "2  i3  c3  d3"
      ]
     },
     "execution_count": 51,
     "metadata": {},
     "output_type": "execute_result"
    }
   ],
   "source": [
    "right"
   ]
  },
  {
   "cell_type": "markdown",
   "metadata": {},
   "source": [
    "`join` is identical to `merge`. But when using join, we need to explicitly set the index column of the dataframes to join using `set_index`:"
   ]
  },
  {
   "cell_type": "markdown",
   "metadata": {},
   "source": [
    "https://pandas.pydata.org/docs/reference/api/pandas.DataFrame.join.html"
   ]
  },
  {
   "cell_type": "code",
   "execution_count": 59,
   "metadata": {},
   "outputs": [
    {
     "data": {
      "text/html": [
       "<div>\n",
       "<style scoped>\n",
       "    .dataframe tbody tr th:only-of-type {\n",
       "        vertical-align: middle;\n",
       "    }\n",
       "\n",
       "    .dataframe tbody tr th {\n",
       "        vertical-align: top;\n",
       "    }\n",
       "\n",
       "    .dataframe thead th {\n",
       "        text-align: right;\n",
       "    }\n",
       "</style>\n",
       "<table border=\"1\" class=\"dataframe\">\n",
       "  <thead>\n",
       "    <tr style=\"text-align: right;\">\n",
       "      <th></th>\n",
       "      <th>idx</th>\n",
       "      <th>A</th>\n",
       "      <th>B</th>\n",
       "      <th>C</th>\n",
       "      <th>D</th>\n",
       "    </tr>\n",
       "  </thead>\n",
       "  <tbody>\n",
       "    <tr>\n",
       "      <th>0</th>\n",
       "      <td>i1</td>\n",
       "      <td>a1</td>\n",
       "      <td>b1</td>\n",
       "      <td>c1</td>\n",
       "      <td>d1</td>\n",
       "    </tr>\n",
       "    <tr>\n",
       "      <th>1</th>\n",
       "      <td>i2</td>\n",
       "      <td>a2</td>\n",
       "      <td>b2</td>\n",
       "      <td>c2</td>\n",
       "      <td>d2</td>\n",
       "    </tr>\n",
       "  </tbody>\n",
       "</table>\n",
       "</div>"
      ],
      "text/plain": [
       "  idx   A   B   C   D\n",
       "0  i1  a1  b1  c1  d1\n",
       "1  i2  a2  b2  c2  d2"
      ]
     },
     "execution_count": 59,
     "metadata": {},
     "output_type": "execute_result"
    }
   ],
   "source": [
    "pd.merge(left, right, how=\"inner\")"
   ]
  },
  {
   "cell_type": "markdown",
   "metadata": {},
   "source": [
    "And you see, `join` disregards the row of `right` with the unmatching index `i3`. It retains the row of `left` with the unmatching index `i0` but uses `NaN` for the missing data after joining."
   ]
  },
  {
   "cell_type": "markdown",
   "metadata": {},
   "source": [
    "#### There are other options we can explore with the `merge()` and `join()` functions. \n",
    "\n",
    "Specifically, we can specify `how`. This argument in the function tells us whether we are performing an inner, left, right, or outer join.\n",
    "\n",
    "We can also specify a different column for joining in the `merge()` function using the `left_on` and `right_on` arguments. Check out the following documentations if you want to explore more:\n",
    "\n",
    "[pandas.DataFrame.merge](https://pandas.pydata.org/pandas-docs/stable/generated/pandas.DataFrame.merge.html)\n",
    "\n",
    "[pandas.DataFrame.join](https://pandas.pydata.org/pandas-docs/stable/generated/pandas.DataFrame.join.html)"
   ]
  },
  {
   "cell_type": "markdown",
   "metadata": {},
   "source": [
    "## Bonus Question\n",
    "\n",
    "Now if you look back on `merge` and `join`, you realize that in order to perform these functions on a set of dataframes, these dataframes must share a common column as the index. Only rows that have the same index values will be joined. This is similar to the [`join` function in MySQL](https://www.w3schools.com/sql/sql_join.asp), isn't it?\n",
    "\n",
    "The bonus question for you is to figure out how to join and concatenate `df1`, `df2`, `df3`, and `df4` we created at the beginning of this challenge. Your end product should look like this:\n",
    "\n",
    "![df1-2-3-4.png](../images/df1-2-3-4.png)"
   ]
  },
  {
   "cell_type": "code",
   "execution_count": 10,
   "metadata": {},
   "outputs": [],
   "source": [
    "# your code here"
   ]
  }
 ],
 "metadata": {
  "kernelspec": {
   "display_name": "base",
   "language": "python",
   "name": "python3"
  },
  "language_info": {
   "codemirror_mode": {
    "name": "ipython",
    "version": 3
   },
   "file_extension": ".py",
   "mimetype": "text/x-python",
   "name": "python",
   "nbconvert_exporter": "python",
   "pygments_lexer": "ipython3",
   "version": "3.12.7"
  },
  "toc": {
   "base_numbering": 1,
   "nav_menu": {},
   "number_sections": true,
   "sideBar": true,
   "skip_h1_title": false,
   "title_cell": "Table of Contents",
   "title_sidebar": "Contents",
   "toc_cell": false,
   "toc_position": {},
   "toc_section_display": true,
   "toc_window_display": false
  }
 },
 "nbformat": 4,
 "nbformat_minor": 2
}
